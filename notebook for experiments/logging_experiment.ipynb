{
 "cells": [
  {
   "cell_type": "markdown",
   "id": "57afe473",
   "metadata": {},
   "source": [
    "#### loggging"
   ]
  },
  {
   "cell_type": "code",
   "execution_count": 1,
   "id": "75361c36",
   "metadata": {},
   "outputs": [],
   "source": [
    "import logging\n",
    "import os\n",
    "from datetime import datetime"
   ]
  },
  {
   "cell_type": "markdown",
   "id": "bd5b3842",
   "metadata": {},
   "source": [
    "capturing the log"
   ]
  },
  {
   "cell_type": "code",
   "execution_count": 2,
   "id": "6ee2183b",
   "metadata": {},
   "outputs": [],
   "source": [
    "logs_dir = os.path.join(os.getcwd(),\"logs\")"
   ]
  },
  {
   "cell_type": "code",
   "execution_count": 3,
   "id": "eff2e82e",
   "metadata": {},
   "outputs": [],
   "source": [
    "os.makedirs(logs_dir , exist_ok=True)"
   ]
  },
  {
   "cell_type": "markdown",
   "id": "d693a19e",
   "metadata": {},
   "source": [
    "capture current date and time"
   ]
  },
  {
   "cell_type": "markdown",
   "id": "8ee8e828",
   "metadata": {},
   "source": [
    "\n",
    "with todays date  log file will be created , \n",
    "if i execute the code tomorrow so log file will be created for tomorrows date"
   ]
  },
  {
   "cell_type": "code",
   "execution_count": 4,
   "id": "bd6d931c",
   "metadata": {},
   "outputs": [],
   "source": [
    "LOG_FILE = f\"{datetime.now().strftime('%m_%d_%Y_%H_%M_%S')}\""
   ]
  },
  {
   "cell_type": "code",
   "execution_count": 5,
   "id": "bac8ca70",
   "metadata": {},
   "outputs": [
    {
     "data": {
      "text/plain": [
       "'07_26_2025_14_51_21'"
      ]
     },
     "execution_count": 5,
     "metadata": {},
     "output_type": "execute_result"
    }
   ],
   "source": [
    "LOG_FILE"
   ]
  },
  {
   "cell_type": "markdown",
   "id": "a78ccb01",
   "metadata": {},
   "source": [
    "log file will be available under log dir"
   ]
  },
  {
   "cell_type": "code",
   "execution_count": 6,
   "id": "54bdd4e1",
   "metadata": {},
   "outputs": [],
   "source": [
    "LOG_FILE_PATH = os.path.join(logs_dir,LOG_FILE)"
   ]
  },
  {
   "cell_type": "markdown",
   "id": "7cbcda77",
   "metadata": {},
   "source": [
    "basic config for logging"
   ]
  },
  {
   "cell_type": "code",
   "execution_count": 7,
   "id": "0a5ba07e",
   "metadata": {},
   "outputs": [],
   "source": [
    "logging.basicConfig(\n",
    "    filename=LOG_FILE_PATH,\n",
    "    format=\"[ %(asctime)s ] %(levelname)s %(name)s (line:%(lineno)d) - %(message)s\",\n",
    "    level=logging.INFO,\n",
    ")"
   ]
  },
  {
   "cell_type": "code",
   "execution_count": 8,
   "id": "1ec31a6f",
   "metadata": {},
   "outputs": [],
   "source": [
    "logger = logging.getLogger(\"DocumentPortal\")"
   ]
  },
  {
   "cell_type": "markdown",
   "id": "27f502bc",
   "metadata": {},
   "source": [
    "this will push the log msg in log file"
   ]
  },
  {
   "cell_type": "code",
   "execution_count": 9,
   "id": "9770bb9f",
   "metadata": {},
   "outputs": [],
   "source": [
    "logger.info(\"this is an info message\")"
   ]
  },
  {
   "cell_type": "code",
   "execution_count": null,
   "id": "38f162a4",
   "metadata": {},
   "outputs": [],
   "source": []
  }
 ],
 "metadata": {
  "kernelspec": {
   "display_name": "Python 3",
   "language": "python",
   "name": "python3"
  },
  "language_info": {
   "codemirror_mode": {
    "name": "ipython",
    "version": 3
   },
   "file_extension": ".py",
   "mimetype": "text/x-python",
   "name": "python",
   "nbconvert_exporter": "python",
   "pygments_lexer": "ipython3",
   "version": "3.10.18"
  }
 },
 "nbformat": 4,
 "nbformat_minor": 5
}

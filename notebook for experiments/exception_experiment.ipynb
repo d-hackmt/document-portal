{
 "cells": [
  {
   "cell_type": "markdown",
   "id": "dcf8b7dc",
   "metadata": {},
   "source": [
    "#### custom execptions"
   ]
  },
  {
   "cell_type": "code",
   "execution_count": 1,
   "id": "f737e43d",
   "metadata": {},
   "outputs": [],
   "source": [
    "import sys\n",
    "import traceback  # capture details regarding execution"
   ]
  },
  {
   "cell_type": "markdown",
   "id": "bf3d63f3",
   "metadata": {},
   "source": [
    "to find complete detail of our execution"
   ]
  },
  {
   "cell_type": "markdown",
   "id": "d3c75d11",
   "metadata": {},
   "source": [
    "raise - stop the execution"
   ]
  },
  {
   "cell_type": "code",
   "execution_count": 3,
   "id": "c1e092f4",
   "metadata": {},
   "outputs": [
    {
     "ename": "DocumentPortalException",
     "evalue": "\n        Error in [C:\\Users\\djadh\\AppData\\Local\\Temp\\ipykernel_18620\\199925483.py] \n        at line [36]\n        Message : division by zero\n        Traceback : Traceback (most recent call last):\n  File \"C:\\Users\\djadh\\AppData\\Local\\Temp\\ipykernel_18620\\199925483.py\", line 36, in <module>\n    a = 1 / 0\nZeroDivisionError: division by zero\n\n        ",
     "output_type": "error",
     "traceback": [
      "\u001b[1;31m---------------------------------------------------------------------------\u001b[0m",
      "\u001b[1;31mZeroDivisionError\u001b[0m                         Traceback (most recent call last)",
      "Cell \u001b[1;32mIn[3], line 36\u001b[0m\n\u001b[0;32m     34\u001b[0m \u001b[38;5;28;01mtry\u001b[39;00m:\n\u001b[0;32m     35\u001b[0m     \u001b[38;5;66;03m# Trigger an error (division by zero)\u001b[39;00m\n\u001b[1;32m---> 36\u001b[0m     a \u001b[38;5;241m=\u001b[39m \u001b[38;5;241;43m1\u001b[39;49m\u001b[43m \u001b[49m\u001b[38;5;241;43m/\u001b[39;49m\u001b[43m \u001b[49m\u001b[38;5;241;43m0\u001b[39;49m\n\u001b[0;32m     37\u001b[0m     \u001b[38;5;28mprint\u001b[39m(a)\n",
      "\u001b[1;31mZeroDivisionError\u001b[0m: division by zero",
      "\nDuring handling of the above exception, another exception occurred:\n",
      "\u001b[1;31mDocumentPortalException\u001b[0m                   Traceback (most recent call last)",
      "Cell \u001b[1;32mIn[3], line 41\u001b[0m\n\u001b[0;32m     38\u001b[0m \u001b[38;5;28;01mexcept\u001b[39;00m \u001b[38;5;167;01mException\u001b[39;00m \u001b[38;5;28;01mas\u001b[39;00m e:\n\u001b[0;32m     39\u001b[0m     \u001b[38;5;66;03m# Wrap the error inside the custom exception and raise it\u001b[39;00m\n\u001b[0;32m     40\u001b[0m     app_exe \u001b[38;5;241m=\u001b[39m DocumentPortalException(e, sys)\n\u001b[1;32m---> 41\u001b[0m     \u001b[38;5;28;01mraise\u001b[39;00m app_exe\n",
      "\u001b[1;31mDocumentPortalException\u001b[0m: \n        Error in [C:\\Users\\djadh\\AppData\\Local\\Temp\\ipykernel_18620\\199925483.py] \n        at line [36]\n        Message : division by zero\n        Traceback : Traceback (most recent call last):\n  File \"C:\\Users\\djadh\\AppData\\Local\\Temp\\ipykernel_18620\\199925483.py\", line 36, in <module>\n    a = 1 / 0\nZeroDivisionError: division by zero\n\n        "
     ]
    }
   ],
   "source": [
    "import sys  # Needed for sys.exc_info()\n",
    "import traceback  # Needed to format the traceback\n",
    "\n",
    "\n",
    "# Custom exception class for structured error logging\n",
    "class DocumentPortalException(Exception):\n",
    "    def __init__(self, error_message: str, error_details: sys):\n",
    "        # Extract traceback info (type, value, traceback object)\n",
    "        _, _, exe_tb = error_details.exc_info()\n",
    "\n",
    "        # Get the filename where the exception occurred\n",
    "        self.file_name = exe_tb.tb_frame.f_code.co_filename\n",
    "\n",
    "        # Get the line number where the exception occurred\n",
    "        self.lineno = exe_tb.tb_lineno\n",
    "\n",
    "        # Store the custom error message\n",
    "        self.error_message = str(error_message)\n",
    "\n",
    "        # Format the full traceback as a string\n",
    "        self.traceback_str = ''.join(traceback.format_exception(*error_details.exc_info()))\n",
    "\n",
    "    # Custom string representation of the exception\n",
    "    def __str__(self):\n",
    "        return f\"\"\"\n",
    "        Error in [{self.file_name}] \n",
    "        at line [{self.lineno}]\n",
    "        Message : {self.error_message}\n",
    "        Traceback : {self.traceback_str}\n",
    "        \"\"\"\n",
    "\n",
    "# Example usage block to test the custom exception\n",
    "if __name__ == \"__main__\":\n",
    "    try:\n",
    "        # Trigger an error (division by zero)\n",
    "        a = 1 / 0\n",
    "        print(a)\n",
    "    except Exception as e:\n",
    "        # Wrap the error inside the custom exception and raise it\n",
    "        app_exe = DocumentPortalException(e, sys)\n",
    "        raise app_exe\n"
   ]
  },
  {
   "cell_type": "markdown",
   "id": "39e80894",
   "metadata": {},
   "source": [
    "lets log it and not stop the execution"
   ]
  },
  {
   "cell_type": "markdown",
   "id": "725bb409",
   "metadata": {},
   "source": [
    "in .py it automatically fetches \n",
    "\"\\_\\_file\\_\\_\" , \n",
    "and here at ipynb it doesnt"
   ]
  },
  {
   "cell_type": "code",
   "execution_count": 6,
   "id": "1a225486",
   "metadata": {},
   "outputs": [],
   "source": [
    "from logger.custom_logger import CustomLogger\n",
    "\n",
    "logger = CustomLogger().get_logger(\"exception_experiment\")"
   ]
  },
  {
   "cell_type": "code",
   "execution_count": 8,
   "id": "c7dc56ac",
   "metadata": {},
   "outputs": [
    {
     "ename": "DocumentPortalException",
     "evalue": "\n        Error in [C:\\Users\\djadh\\AppData\\Local\\Temp\\ipykernel_18620\\2602038112.py] \n        at line [36]\n        Message : division by zero\n        Traceback : Traceback (most recent call last):\n  File \"C:\\Users\\djadh\\AppData\\Local\\Temp\\ipykernel_18620\\2602038112.py\", line 36, in <module>\n    a = 1 / 0\nZeroDivisionError: division by zero\n\n        ",
     "output_type": "error",
     "traceback": [
      "\u001b[1;31m---------------------------------------------------------------------------\u001b[0m",
      "\u001b[1;31mZeroDivisionError\u001b[0m                         Traceback (most recent call last)",
      "Cell \u001b[1;32mIn[8], line 36\u001b[0m\n\u001b[0;32m     34\u001b[0m \u001b[38;5;28;01mtry\u001b[39;00m:\n\u001b[0;32m     35\u001b[0m     \u001b[38;5;66;03m# Trigger an error (division by zero)\u001b[39;00m\n\u001b[1;32m---> 36\u001b[0m     a \u001b[38;5;241m=\u001b[39m \u001b[38;5;241;43m1\u001b[39;49m\u001b[43m \u001b[49m\u001b[38;5;241;43m/\u001b[39;49m\u001b[43m \u001b[49m\u001b[38;5;241;43m0\u001b[39;49m\n\u001b[0;32m     37\u001b[0m     \u001b[38;5;28mprint\u001b[39m(a)\n",
      "\u001b[1;31mZeroDivisionError\u001b[0m: division by zero",
      "\nDuring handling of the above exception, another exception occurred:\n",
      "\u001b[1;31mDocumentPortalException\u001b[0m                   Traceback (most recent call last)",
      "Cell \u001b[1;32mIn[8], line 42\u001b[0m\n\u001b[0;32m     40\u001b[0m app_exe \u001b[38;5;241m=\u001b[39m DocumentPortalException(e, sys)\n\u001b[0;32m     41\u001b[0m logger\u001b[38;5;241m.\u001b[39merror(\u001b[38;5;124mf\u001b[39m\u001b[38;5;124m\"\u001b[39m\u001b[38;5;124mYou got and error \u001b[39m\u001b[38;5;132;01m{\u001b[39;00mapp_exe\u001b[38;5;132;01m}\u001b[39;00m\u001b[38;5;124m\"\u001b[39m)\n\u001b[1;32m---> 42\u001b[0m \u001b[38;5;28;01mraise\u001b[39;00m app_exe\n",
      "\u001b[1;31mDocumentPortalException\u001b[0m: \n        Error in [C:\\Users\\djadh\\AppData\\Local\\Temp\\ipykernel_18620\\2602038112.py] \n        at line [36]\n        Message : division by zero\n        Traceback : Traceback (most recent call last):\n  File \"C:\\Users\\djadh\\AppData\\Local\\Temp\\ipykernel_18620\\2602038112.py\", line 36, in <module>\n    a = 1 / 0\nZeroDivisionError: division by zero\n\n        "
     ]
    }
   ],
   "source": [
    "import sys  # Needed for sys.exc_info()\n",
    "import traceback  # Needed to format the traceback\n",
    "\n",
    "\n",
    "# Custom exception class for structured error logging\n",
    "class DocumentPortalException(Exception):\n",
    "    def __init__(self, error_message: str, error_details: sys):\n",
    "        # Extract traceback info (type, value, traceback object)\n",
    "        _, _, exe_tb = error_details.exc_info()\n",
    "\n",
    "        # Get the filename where the exception occurred\n",
    "        self.file_name = exe_tb.tb_frame.f_code.co_filename\n",
    "\n",
    "        # Get the line number where the exception occurred\n",
    "        self.lineno = exe_tb.tb_lineno\n",
    "\n",
    "        # Store the custom error message\n",
    "        self.error_message = str(error_message)\n",
    "\n",
    "        # Format the full traceback as a string\n",
    "        self.traceback_str = ''.join(traceback.format_exception(*error_details.exc_info()))\n",
    "\n",
    "    # Custom string representation of the exception\n",
    "    def __str__(self):\n",
    "        return f\"\"\"\n",
    "        Error in [{self.file_name}] \n",
    "        at line [{self.lineno}]\n",
    "        Message : {self.error_message}\n",
    "        Traceback : {self.traceback_str}\n",
    "        \"\"\"\n",
    "\n",
    "# Example usage block to test the custom exception\n",
    "if __name__ == \"__main__\":\n",
    "    try:\n",
    "        # Trigger an error (division by zero)\n",
    "        a = 1 / 0\n",
    "        print(a)\n",
    "    except Exception as e:\n",
    "        # Wrap the error inside the custom exception and raise it\n",
    "        app_exe = DocumentPortalException(e, sys)\n",
    "        logger.error(f\"You got and error {app_exe}\")\n",
    "        raise app_exe\n"
   ]
  },
  {
   "cell_type": "code",
   "execution_count": null,
   "id": "bdfc9f38",
   "metadata": {},
   "outputs": [],
   "source": []
  }
 ],
 "metadata": {
  "kernelspec": {
   "display_name": "Python 3",
   "language": "python",
   "name": "python3"
  },
  "language_info": {
   "codemirror_mode": {
    "name": "ipython",
    "version": 3
   },
   "file_extension": ".py",
   "mimetype": "text/x-python",
   "name": "python",
   "nbconvert_exporter": "python",
   "pygments_lexer": "ipython3",
   "version": "3.10.18"
  }
 },
 "nbformat": 4,
 "nbformat_minor": 5
}
